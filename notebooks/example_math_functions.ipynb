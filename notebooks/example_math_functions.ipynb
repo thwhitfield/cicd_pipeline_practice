{
 "cells": [
  {
   "cell_type": "code",
   "execution_count": 1,
   "id": "303a9dda-4881-4a04-9855-4a817bab6061",
   "metadata": {},
   "outputs": [],
   "source": [
    "from my_pkg.math import add, subtract, multiply, divide"
   ]
  },
  {
   "cell_type": "code",
   "execution_count": 2,
   "id": "6d2cb4bd-3bfe-4f28-ac7a-f74bb89c5510",
   "metadata": {},
   "outputs": [
    {
     "data": {
      "text/plain": [
       "3"
      ]
     },
     "execution_count": 2,
     "metadata": {},
     "output_type": "execute_result"
    }
   ],
   "source": [
    "add(1, 2)"
   ]
  },
  {
   "cell_type": "code",
   "execution_count": 3,
   "id": "5f1f13b3-2c4f-4123-974d-3eb73f9c4145",
   "metadata": {},
   "outputs": [
    {
     "data": {
      "text/plain": [
       "2"
      ]
     },
     "execution_count": 3,
     "metadata": {},
     "output_type": "execute_result"
    }
   ],
   "source": [
    "subtract(10,8)"
   ]
  },
  {
   "cell_type": "code",
   "execution_count": 4,
   "id": "c9153c2c-07f3-4e8f-8f91-229b3d114c43",
   "metadata": {},
   "outputs": [
    {
     "data": {
      "text/plain": [
       "8"
      ]
     },
     "execution_count": 4,
     "metadata": {},
     "output_type": "execute_result"
    }
   ],
   "source": [
    "multiply(2,4)"
   ]
  },
  {
   "cell_type": "code",
   "execution_count": 5,
   "id": "c19879f5-de78-4ad8-a957-6f921533cb48",
   "metadata": {},
   "outputs": [
    {
     "data": {
      "text/plain": [
       "4.0"
      ]
     },
     "execution_count": 5,
     "metadata": {},
     "output_type": "execute_result"
    }
   ],
   "source": [
    "divide(8,2)"
   ]
  },
  {
   "cell_type": "code",
   "execution_count": null,
   "id": "58d20e39-9a2a-4c92-b67e-c54dab97f48c",
   "metadata": {},
   "outputs": [],
   "source": []
  }
 ],
 "metadata": {
  "kernelspec": {
   "display_name": "Python [conda env:trav_env]",
   "language": "python",
   "name": "conda-env-trav_env-py"
  },
  "language_info": {
   "codemirror_mode": {
    "name": "ipython",
    "version": 3
   },
   "file_extension": ".py",
   "mimetype": "text/x-python",
   "name": "python",
   "nbconvert_exporter": "python",
   "pygments_lexer": "ipython3",
   "version": "3.10.0"
  }
 },
 "nbformat": 4,
 "nbformat_minor": 5
}
